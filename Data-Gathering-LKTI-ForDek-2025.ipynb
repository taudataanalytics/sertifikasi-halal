{
 "cells": [
  {
   "cell_type": "markdown",
   "id": "65f21a43-6977-47f3-a6d4-2d43fdbfa079",
   "metadata": {},
   "source": [
    "# https://pypi.org/project/duckduckgo-search/"
   ]
  },
  {
   "cell_type": "code",
   "execution_count": 4,
   "id": "e4a56c4f-3950-41ff-80b1-ac5d3604b462",
   "metadata": {},
   "outputs": [],
   "source": [
    "!pip install duckduckgo_search --q\n",
    "!pip install textblob --q"
   ]
  },
  {
   "cell_type": "code",
   "execution_count": 10,
   "id": "908e14d5-111c-4956-a695-d1a06f9eb82c",
   "metadata": {},
   "outputs": [
    {
     "data": {
      "text/plain": [
       "'Done'"
      ]
     },
     "execution_count": 10,
     "metadata": {},
     "output_type": "execute_result"
    }
   ],
   "source": [
    "import time\n",
    "from duckduckgo_search import DDGS\n",
    "import pandas as pd\n",
    "import unidecode, re, textblob\n",
    "from textblob import TextBlob\n",
    "from textblob import Word\n",
    "\"Done\""
   ]
  },
  {
   "cell_type": "code",
   "execution_count": null,
   "id": "95499252-da99-4b07-afd5-65173facf1bf",
   "metadata": {},
   "outputs": [],
   "source": [
    "print(\"mulai tidur ... ZzZzZz... \")\n",
    "time.sleep(5)\n",
    "print(\"Udah Bangun!\")"
   ]
  },
  {
   "cell_type": "code",
   "execution_count": 7,
   "id": "b8400381-7c2b-4d87-8a06-64a6330951f6",
   "metadata": {},
   "outputs": [
    {
     "data": {
      "text/plain": [
       "(['facebook.com', 'instagram.com', 'x.com', 'linkedin.com', 'youtube.com'],\n",
       " ['kompas.com', 'detik.com', 'liputan6.com', 'tribunnews.com'],\n",
       " ['\"sertifikasi\" \"halal\"'])"
      ]
     },
     "execution_count": 7,
     "metadata": {},
     "output_type": "execute_result"
    }
   ],
   "source": [
    "medsos = \"facebook instagram x linkedin youtube\".split()\n",
    "medsos = [ms+\".com\" for ms in medsos]\n",
    "media = \"kompas detik liputan6 tribunnews\".split()\n",
    "media = [ms+\".com\" for ms in media]\n",
    "keywords = ['\"sertifikasi\" \"halal\"']\n",
    "\n",
    "medsos, media, keywords"
   ]
  },
  {
   "cell_type": "code",
   "execution_count": null,
   "id": "9f175936-ab93-4e75-8643-d46f59b9f948",
   "metadata": {},
   "outputs": [],
   "source": [
    "\n",
    "qry = '\"sertifikasi\" \"halal\" site:facebook.com'\n",
    "results = DDGS().text(qry, max_results=100)\n",
    "print(results)"
   ]
  },
  {
   "cell_type": "code",
   "execution_count": 16,
   "id": "ec5dada9-e967-4f55-b706-900afd5df949",
   "metadata": {},
   "outputs": [
    {
     "data": {
      "text/html": [
       "<div>\n",
       "<style scoped>\n",
       "    .dataframe tbody tr th:only-of-type {\n",
       "        vertical-align: middle;\n",
       "    }\n",
       "\n",
       "    .dataframe tbody tr th {\n",
       "        vertical-align: top;\n",
       "    }\n",
       "\n",
       "    .dataframe thead th {\n",
       "        text-align: right;\n",
       "    }\n",
       "</style>\n",
       "<table border=\"1\" class=\"dataframe\">\n",
       "  <thead>\n",
       "    <tr style=\"text-align: right;\">\n",
       "      <th></th>\n",
       "      <th>title</th>\n",
       "      <th>href</th>\n",
       "      <th>body</th>\n",
       "      <th>post</th>\n",
       "    </tr>\n",
       "  </thead>\n",
       "  <tbody>\n",
       "    <tr>\n",
       "      <th>0</th>\n",
       "      <td>LPPOM MUI | Bogor - Facebook</td>\n",
       "      <td>https://www.facebook.com/halalindonesia/</td>\n",
       "      <td>LPPOM MUI, Bogor, Indonesia. 145,648 likes · 4...</td>\n",
       "      <td>LPPOM MUI | Bogor - Facebook LPPOM MUI, Bogor,...</td>\n",
       "    </tr>\n",
       "    <tr>\n",
       "      <th>1</th>\n",
       "      <td>LPH Halal Nusantara - Facebook</td>\n",
       "      <td>https://www.facebook.com/halalnusantara.id/</td>\n",
       "      <td>pentingnya sertifikasi halal, tidak hanya dari...</td>\n",
       "      <td>LPH Halal Nusantara - Facebook pentingnya sert...</td>\n",
       "    </tr>\n",
       "    <tr>\n",
       "      <th>2</th>\n",
       "      <td>Info Sertifikasi Halal Indonesia - Facebook</td>\n",
       "      <td>https://www.facebook.com/groups/1127431861260327/</td>\n",
       "      <td>Group ini adalah media silaturahmi antar Pelak...</td>\n",
       "      <td>Info Sertifikasi Halal Indonesia - Facebook Gr...</td>\n",
       "    </tr>\n",
       "    <tr>\n",
       "      <th>3</th>\n",
       "      <td>Halal Corridor | Jakarta - Facebook</td>\n",
       "      <td>https://www.facebook.com/profile.php/?id=61565...</td>\n",
       "      <td>Jun 1, 2025· 󰟠 Seru-seruan bareng Halal Corrid...</td>\n",
       "      <td>Halal Corridor | Jakarta - Facebook Jun 1, 202...</td>\n",
       "    </tr>\n",
       "    <tr>\n",
       "      <th>4</th>\n",
       "      <td>LPH Hidayatullah Sulut | Tomohon - Facebook</td>\n",
       "      <td>https://www.facebook.com/profile.php/?id=61576...</td>\n",
       "      <td>LPH Hidayatullah Sulut , Kota Tomohon. 5 likes...</td>\n",
       "      <td>LPH Hidayatullah Sulut | Tomohon - Facebook LP...</td>\n",
       "    </tr>\n",
       "  </tbody>\n",
       "</table>\n",
       "</div>"
      ],
      "text/plain": [
       "                                         title  \\\n",
       "0                 LPPOM MUI | Bogor - Facebook   \n",
       "1               LPH Halal Nusantara - Facebook   \n",
       "2  Info Sertifikasi Halal Indonesia - Facebook   \n",
       "3          Halal Corridor | Jakarta - Facebook   \n",
       "4  LPH Hidayatullah Sulut | Tomohon - Facebook   \n",
       "\n",
       "                                                href  \\\n",
       "0           https://www.facebook.com/halalindonesia/   \n",
       "1        https://www.facebook.com/halalnusantara.id/   \n",
       "2  https://www.facebook.com/groups/1127431861260327/   \n",
       "3  https://www.facebook.com/profile.php/?id=61565...   \n",
       "4  https://www.facebook.com/profile.php/?id=61576...   \n",
       "\n",
       "                                                body  \\\n",
       "0  LPPOM MUI, Bogor, Indonesia. 145,648 likes · 4...   \n",
       "1  pentingnya sertifikasi halal, tidak hanya dari...   \n",
       "2  Group ini adalah media silaturahmi antar Pelak...   \n",
       "3  Jun 1, 2025· 󰟠 Seru-seruan bareng Halal Corrid...   \n",
       "4  LPH Hidayatullah Sulut , Kota Tomohon. 5 likes...   \n",
       "\n",
       "                                                post  \n",
       "0  LPPOM MUI | Bogor - Facebook LPPOM MUI, Bogor,...  \n",
       "1  LPH Halal Nusantara - Facebook pentingnya sert...  \n",
       "2  Info Sertifikasi Halal Indonesia - Facebook Gr...  \n",
       "3  Halal Corridor | Jakarta - Facebook Jun 1, 202...  \n",
       "4  LPH Hidayatullah Sulut | Tomohon - Facebook LP...  "
      ]
     },
     "execution_count": 16,
     "metadata": {},
     "output_type": "execute_result"
    }
   ],
   "source": [
    "\n",
    "namaFile = 'data/data_halal.csv'\n",
    "\n",
    "try:\n",
    "    df = pd.read_csv(namaFile)\n",
    "except:\n",
    "    tidur = 60 # delay 60 detik\n",
    "    results = []\n",
    "    for ms in medsos:\n",
    "        for kw in keywords:\n",
    "            qry = \"{} site:{}\".format(kw, ms)\n",
    "            print(qry)\n",
    "            hasil = DDGS().text(qry, max_results=100)\n",
    "            results.extend(hasil)\n",
    "            time.sleep(tidur)    \n",
    "    for ms in media:\n",
    "        qry = 'halal site:{}'.format(ms)\n",
    "        print(qry)\n",
    "        hasil = DDGS().text(qry, max_results=100)\n",
    "        results.extend(hasil)\n",
    "        time.sleep(tidur)\n",
    "    df['post'] = df['title'] + ' ' + df['body']\n",
    "    df.to_csv(namaFile, index=False)\n",
    "\n",
    "df.head()"
   ]
  },
  {
   "cell_type": "code",
   "execution_count": 9,
   "id": "b9d4e276-b331-4f71-aa1a-19268fb45e64",
   "metadata": {},
   "outputs": [
    {
     "name": "stdout",
     "output_type": "stream",
     "text": [
      "['ada', 'adalah', 'adanya', 'adapun', 'agak']\n"
     ]
    }
   ],
   "source": [
    "try:\n",
    "    f = 'data/stopwords_id.txt' # atau stopwords_en.txt\n",
    "    df=open(f,\"r\",encoding=\"utf-8\", errors='replace')\n",
    "except:\n",
    "    pass\n",
    "\n",
    "stopWords = df.readlines();df.close()\n",
    "stopWords = [t.strip() for t in stopWords]\n",
    "print(stopWords[:5])\n",
    "stopWords = set(stopWords)"
   ]
  },
  {
   "cell_type": "code",
   "execution_count": 22,
   "id": "b2a3b811-ea63-46f0-b7b3-fc5601ce3232",
   "metadata": {},
   "outputs": [],
   "source": [
    "def txtPreprocessing(txt):\n",
    "    T = txt.lower() \n",
    "    T = re.sub(r'[^\\w]',' ',T) # remove symbols\n",
    "    T = TextBlob(T).words # Tokenisasi, T sekarang List\n",
    "    T = [Word(t).lemmatize() for t in T] # Lemma\n",
    "    T = [t for t in T if str(t) not in stopWords]\n",
    "    return ' '.join(T)"
   ]
  },
  {
   "cell_type": "code",
   "execution_count": 24,
   "id": "fb5577bb-e3fb-4fa6-837d-4ff1f5e84b86",
   "metadata": {},
   "outputs": [
    {
     "name": "stdout",
     "output_type": "stream",
     "text": [
      "51\n"
     ]
    },
    {
     "data": {
      "text/plain": [
       "['lppom mui bogor facebook lppom mui bogor indonesia 145 648 like 408 talking about this fanpage official lppom mui lppom mui lembaga sertifikasi halal lsh dunia terakreditasi sni iso iec',\n",
       " 'lph halal nusantara facebook sertifikasi halal tidak perspektif agama sudut pandang bisnis berbicara marketing branding produk irham sertifikasi halal alat pemasaran ampuh membantu bisnis menarik pelanggan negeri internasional',\n",
       " 'info sertifikasi halal indonesia facebook group medium silaturahmi pelaku usaha penyelia halal berbagi informasi terkait sertifikasi halal jaminan produk halal']"
      ]
     },
     "execution_count": 24,
     "metadata": {},
     "output_type": "execute_result"
    }
   ],
   "source": [
    "data_bersih = []\n",
    "\n",
    "for i, d in df.iterrows():\n",
    "    post_bersih = txtPreprocessing(d.post)\n",
    "    data_bersih.append(post_bersih)\n",
    "\n",
    "print(len(data_bersih))\n",
    "data_bersih[:3]"
   ]
  },
  {
   "cell_type": "code",
   "execution_count": null,
   "id": "0006ce37-7ac9-4ac5-98f7-1fd9168457cb",
   "metadata": {},
   "outputs": [],
   "source": []
  },
  {
   "cell_type": "code",
   "execution_count": null,
   "id": "63ceb942-9694-4410-aea6-d398a1e4a6ea",
   "metadata": {},
   "outputs": [],
   "source": []
  }
 ],
 "metadata": {
  "kernelspec": {
   "display_name": "Python 3 (ipykernel)",
   "language": "python",
   "name": "python3"
  },
  "language_info": {
   "codemirror_mode": {
    "name": "ipython",
    "version": 3
   },
   "file_extension": ".py",
   "mimetype": "text/x-python",
   "name": "python",
   "nbconvert_exporter": "python",
   "pygments_lexer": "ipython3",
   "version": "3.10.14"
  }
 },
 "nbformat": 4,
 "nbformat_minor": 5
}
